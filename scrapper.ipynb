{
 "cells": [
  {
   "cell_type": "code",
   "execution_count": 113,
   "metadata": {
    "collapsed": true
   },
   "outputs": [],
   "source": [
    "import roman\n",
    "import re\n",
    "import pprint as pp\n",
    "from flask import Flask, Response\n",
    "from flask_restful import Resource, Api\n",
    "import numpy as np\n",
    "from flask_cors import CORS"
   ]
  },
  {
   "cell_type": "code",
   "execution_count": 114,
   "metadata": {},
   "outputs": [
    {
     "data": {
      "text/plain": [
       "<flask_cors.extension.CORS at 0x1131d2748>"
      ]
     },
     "execution_count": 114,
     "metadata": {},
     "output_type": "execute_result"
    }
   ],
   "source": [
    "app = Flask(__name__)\n",
    "api = Api(app)\n",
    "CORS(app)"
   ]
  },
  {
   "cell_type": "code",
   "execution_count": 115,
   "metadata": {
    "collapsed": true
   },
   "outputs": [],
   "source": [
    "file = 'credit'\n",
    "count = 0\n",
    "current_branch = \"\"\n",
    "current_sem = 0\n",
    "database = {}\n",
    "\n",
    "map_of_grade = {\n",
    "    \"A+\":10.0,\n",
    "    \"A\":9.0,\n",
    "    \"B+\":8.0,\n",
    "    \"B\":7.0,\n",
    "    \"C+\":6.0,\n",
    "    \"C\":5.0,\n",
    "    \"D\":4.0,\n",
    "    \"FF\":0.0,\n",
    "    \"IF\":0.0\n",
    "}\n",
    "map_of_branch = {\n",
    "    \"CH\" : \"Chemical Engineering\",\n",
    "    \"CL\" : \"Civil Engineering\",\n",
    "    \"EE\" : \"Electrical Engineering\",\n",
    "    \"CE\" : \"Computer Engineering\",\n",
    "    \"IT\" : \"Information Technology\",\n",
    "    \"EC\" : \"Electronics and Communication Engineering\",\n",
    "    \"IC\" : \"Instrumentation and Control Engineering\",\n",
    "    \"ME\" : \"Mechanical Engineering\" \n",
    "}\n",
    "\n",
    "with open(file, 'rb') as inputfile:\n",
    "    for line in inputfile:\n",
    "        line = str(line)\n",
    "        line = line.replace(\"b'\",\"\")\n",
    "        line = line.replace(\"\\\\n'\",\"\")\n",
    "        \n",
    "        if line.startswith(\"Code\"):\n",
    "            count = 0\n",
    "        elif line.startswith(\"Semester\"):\n",
    "            count = 1\n",
    "            \n",
    "        if count == -1:\n",
    "            count = -1\n",
    "            \n",
    "            #add subject to current sem under current branch\n",
    "            subject_details = line.split(\"\\\\t\")\n",
    "            course_code = subject_details[0]\n",
    "            course_name = subject_details[1]\n",
    "            try:\n",
    "                course_credit = subject_details[2]\n",
    "            except:\n",
    "                course_credit = 0.0\n",
    "                \n",
    "            '''\n",
    "            database[current_branch][current_sem].append({\"code\":course_code,\n",
    "                                                              \"name\":course_name,\n",
    "                                                              \"credit\":course_credit})\n",
    "            '''\n",
    "            \n",
    "            database[current_branch][current_sem].update({course_name:course_credit})\n",
    "                                                              \n",
    "        elif count == 0:\n",
    "            count = 1\n",
    "\n",
    "        ### Collecting the couse name\n",
    "            data = line.split(\" \",1)\n",
    "            code = data[0].split(\":\")[1]\n",
    "            course = data[1].split(\":\")[1]\n",
    "            current_branch = course\n",
    "            database.update({course:{}})\n",
    "\n",
    "        elif count == 1:\n",
    "            count = 2\n",
    "\n",
    "        ### Collecting the semester\n",
    "            sem = line.replace(\" \",\"\").split(\":\")[1]\n",
    "            sem = roman.fromRoman(sem)\n",
    "            current_sem = sem\n",
    "            database[current_branch].update({current_sem:{}})\n",
    "        else:\n",
    "            count = -1\n",
    "                "
   ]
  },
  {
   "cell_type": "code",
   "execution_count": 116,
   "metadata": {},
   "outputs": [],
   "source": [
    "#result = 'Civil Engineering,7,Minor Project:B+,Practical Training:B,Geomatics:B+,Human Resource Management:B+,Design of Structures - III:B,Organizational Behavior:B+,Traffic Engineering and Design:B+,Construction and Project Management:B+,Professional Practice:B'\n",
    "def count_spi(result):\n",
    "    \n",
    "    grade_details = result.split(\",\")\n",
    "    branch = grade_details[0]\n",
    "    semester = int(grade_details[1])\n",
    "    \n",
    "    total_credits_earned = 0\n",
    "    sum_of_credits = 0\n",
    "    \n",
    "    result_html = \"\"\n",
    "    \n",
    "    \n",
    "    for i in range(2,len(grade_details)):\n",
    "        subject = grade_details[i].split(\":\")[0]\n",
    "        grade = grade_details[i].split(\":\")[1]\n",
    "        \n",
    "        try:\n",
    "            credit = float(database[branch][semester][subject])\n",
    "        except:\n",
    "            credit = 4.0\n",
    "        \n",
    "        score = float(map_of_grade[grade])\n",
    "        \n",
    "        #print(subject,credit,grade,score)\n",
    "        total_credits_earned += score*credit\n",
    "        sum_of_credits += credit\n",
    "        \n",
    "        result_html += '<tr><th scope=\"row\">'+subject+'</th><td><input type=\"text\" id=\"credit\" value='+str(credit)+' ></td><td>'+str(grade)+'</td><td id=\"point\">'+str(score)+'</td></tr>'\n",
    "     \n",
    "    spi = np.round(total_credits_earned/sum_of_credits,decimals=3)\n",
    "    result_html += '<thead class=\"thead-dark\"><tr><th scope=\"row\">Credits Earned : <span id=\"ce\">'+str(total_credits_earned)+'</span></th><th>Max Credits : <span id=\"mc\">'+str(sum_of_credits)+'</span></th><th colspan=2>SPI : <span id=\"spi\">'+str(spi)+'</span></th></tr></thead>'\n",
    "    \n",
    "    response = \"\"\"\n",
    "                <table class=\"table\">\n",
    "                  <thead class=\"thead-dark\">\n",
    "                    <tr>\n",
    "                      <th scope=\"col\">Course Name</th>\n",
    "                      <th scope=\"col\">Credit</th>\n",
    "                      <th scope=\"col\">Grade</th>\n",
    "                      <th scope=\"col\">Points</th>\n",
    "                    </tr>\n",
    "                  </thead>\n",
    "                  <tbody>\n",
    "            \"\"\"+result_html+\"\"\"\n",
    "                  </tbody>\n",
    "                </table>\n",
    "            \"\"\"\n",
    "\n",
    "        \n",
    "    return response\n",
    "    #return total_credits_earned/sum_of_credits\n",
    "\n",
    "def parse_string(query):\n",
    "    roll_no = query [ query.find(\"Roll No : \",1)+len('Roll No :  ') : query.find(\" Student Name\",1) ]\n",
    "    name = query [ query.find(\"Student Name : \",1)+len('Student Name : ') : query.find(\" Course\",1) ]\n",
    "    grades = query[ query.find(\"Course Grade\",1)+len('Course Grade '):len(query) ]\n",
    "    sem = re.findall(\"[' '][\\d][' ']\",grades,1)[0].replace(\" \",\"\")\n",
    "    branch = map_of_branch[roll_no[3:5]]\n",
    "\n",
    "    modified = re.sub(\"[' '][\\d][' ']\",\":\",grades)\n",
    "    modified = re.sub(\"[' ']?[A-Z]+[\\d][\\d][\\d][' ']\",\",\",modified)\n",
    "\n",
    "    return branch+\",\"+sem+modified"
   ]
  },
  {
   "cell_type": "code",
   "execution_count": null,
   "metadata": {
    "collapsed": true
   },
   "outputs": [],
   "source": [
    "class my_spi(Resource):\n",
    "    def get(self, query):\n",
    "        try:\n",
    "            parsed_query = parse_string(query)\n",
    "            results = count_spi(parsed_query)\n",
    "        except:\n",
    "            results = \"Something Went Wrong.!!\"\n",
    "        resp = Response(response='<body>'+str(results)+'</body>',\n",
    "        status=200,\n",
    "        mimetype=\"text/html\")\n",
    "        return(resp)"
   ]
  },
  {
   "cell_type": "code",
   "execution_count": null,
   "metadata": {},
   "outputs": [
    {
     "name": "stderr",
     "output_type": "stream",
     "text": [
      " * Running on http://127.0.0.1:5003/ (Press CTRL+C to quit)\n",
      "127.0.0.1 - - [18/Jan/2018 02:28:08] \"GET /grades/Roll%20No%20:%2014BCL113%20Student%20Name%20:%20Solanki%20Kushal%20Bipinbhai%20Course%20Code%20Course%20Name%20Semester%20Course%20Grade%20CL704%20Minor%20Project%207%20B+%20SP701%20Practical%20Training%207%20B%20CL671%20Geomatics%207%20B+%20UEIM004%20Elements%20of%20Management%207%20B+%20SS701%20Organizational%20Behaviour%207%20B+%20CL701%20Construction%20and%20Project%20Management%207%20B+%20CL703%20Design%20of%20Structures%20-%20III%207%20B%20CL734%20Traffic%20Engineering%20and%20Design%207%20B+%20CL702%20Professional%20Practice%207%20B HTTP/1.1\" 200 -\n",
      "127.0.0.1 - - [18/Jan/2018 02:29:01] \"GET /grades/Roll%20No%20:%2014BCL113%20Student%20Name%20:%20Solanki%20Kushal%20Bipinbhai%20Course%20Code%20Course%20Name%20Semester%20Course%20Grade%20CL704%20Minor%20Project%207%20B+%20SP701%20Practical%20Training%207%20B%20CL671%20Geomatics%207%20B+%20UEIM004%20Elements%20of%20Management%207%20B+%20SS701%20Organizational%20Behaviour%207%20B+%20CL701%20Construction%20and%20Project%20Management%207%20B+%20CL703%20Design%20of%20Structures%20-%20III%207%20B%20CL734%20Traffic%20Engineering%20and%20Design%207%20B+%20CL702%20Professional%20Practice%207%20B HTTP/1.1\" 200 -\n"
     ]
    }
   ],
   "source": [
    "api.add_resource(my_spi, '/grades/<query>') # Route_3\n",
    "\n",
    "if __name__ == '__main__':\n",
    "     app.run(port='5003')"
   ]
  },
  {
   "cell_type": "code",
   "execution_count": null,
   "metadata": {
    "collapsed": true
   },
   "outputs": [],
   "source": []
  }
 ],
 "metadata": {
  "kernelspec": {
   "display_name": "Python 3",
   "language": "python",
   "name": "python3"
  },
  "language_info": {
   "codemirror_mode": {
    "name": "ipython",
    "version": 3
   },
   "file_extension": ".py",
   "mimetype": "text/x-python",
   "name": "python",
   "nbconvert_exporter": "python",
   "pygments_lexer": "ipython3",
   "version": "3.6.1"
  }
 },
 "nbformat": 4,
 "nbformat_minor": 2
}
